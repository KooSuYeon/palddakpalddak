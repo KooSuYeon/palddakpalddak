{
 "cells": [
  {
   "cell_type": "markdown",
   "metadata": {},
   "source": [
    "#### Dataset 출처: 파이썬 라이브러리 스파르타 노션 교재\n",
    "\n",
    "- 기본 WebBaseLoader로 긁어온다면 API token이 없기 때문에 불가했기 떄문\n",
    "- 교재 url은 .env파일에 저장됨\n"
   ]
  },
  {
   "cell_type": "code",
   "execution_count": 29,
   "metadata": {},
   "outputs": [],
   "source": [
    "import os\n",
    "from dotenv import load_dotenv\n",
    "\n",
    "load_dotenv()\n",
    "import os\n",
    "\n",
    "urls = []\n",
    "\n",
    "# 1부터 17까지의 환경 변수 이름을 동적으로 생성하여 값을 가져오기\n",
    "for i in range(1, 18):\n",
    "    url = os.getenv(f\"PYTHON_LIBRARY_URL_{i}\")  # 환경 변수 이름 생성\n",
    "    if url:  # 값이 None이 아닌 경우만 추가\n",
    "        urls.append(url)\n",
    "\n",
    "# # URL 목록 출력\n",
    "# print(urls)\n",
    "\n",
    "\n",
    "headers = {\n",
    "    \"User-Agent\": \"yMozilla/5.0 (Macintosh; Intel Mac OS X 10_15_7) AppleWebKit/537.36 (KHTML, like Gecko) Chrome/131.0.0.0 Safari/537.36\"  \n",
    "}"
   ]
  },
  {
   "cell_type": "markdown",
   "metadata": {},
   "source": [
    "### 데이터 전처리 및 동적 크롤링 (윤서님 코드 참고)"
   ]
  },
  {
   "cell_type": "code",
   "execution_count": 8,
   "metadata": {},
   "outputs": [],
   "source": [
    "import re\n",
    "\n",
    "def extract_page_id(notion_url: str) -> str:\n",
    "    # Notion URL에서 ID 추출 (UUID)\n",
    "    match = re.search(r'([a-f0-9]{32})', notion_url)\n",
    "    if match:\n",
    "        page_id = match.group(1)\n",
    "        # UUID 포맷으로 변환\n",
    "        return f\"{page_id[:8]}-{page_id[8:12]}-{page_id[12:16]}-{page_id[16:20]}-{page_id[20:]}\"\n",
    "    else:\n",
    "        raise ValueError(\"유효한 Notion 페이지 URL이 아닙니다.\")"
   ]
  },
  {
   "cell_type": "code",
   "execution_count": 4,
   "metadata": {},
   "outputs": [],
   "source": [
    "import re\n",
    "import time\n",
    "import nltk\n",
    "from selenium import webdriver\n",
    "from webdriver_manager.chrome import ChromeDriverManager\n",
    "from selenium.webdriver.chrome.service import Service\n",
    "from selenium.webdriver.common.by import By\n",
    "from langchain.text_splitter import RecursiveCharacterTextSplitter\n",
    "from langchain.schema import Document\n",
    "from nltk.corpus import stopwords\n",
    "from nltk.tokenize import word_tokenize\n",
    "import ssl"
   ]
  },
  {
   "cell_type": "code",
   "execution_count": 5,
   "metadata": {},
   "outputs": [],
   "source": [
    "try:\n",
    "    _create_unverified_https_context = ssl._create_unverified_context\n",
    "except AttributeError:\n",
    "    pass\n",
    "else:\n",
    "    ssl._create_default_https_context = _create_unverified_https_context"
   ]
  },
  {
   "cell_type": "code",
   "execution_count": 6,
   "metadata": {},
   "outputs": [
    {
     "name": "stderr",
     "output_type": "stream",
     "text": [
      "[nltk_data] Downloading package punkt_tab to\n",
      "[nltk_data]     /Users/suyeon/nltk_data...\n",
      "[nltk_data]   Package punkt_tab is already up-to-date!\n",
      "[nltk_data] Downloading package punkt to /Users/suyeon/nltk_data...\n",
      "[nltk_data]   Unzipping tokenizers/punkt.zip.\n",
      "[nltk_data] Downloading package stopwords to\n",
      "[nltk_data]     /Users/suyeon/nltk_data...\n",
      "[nltk_data]   Unzipping corpora/stopwords.zip.\n"
     ]
    },
    {
     "data": {
      "text/plain": [
       "True"
      ]
     },
     "execution_count": 6,
     "metadata": {},
     "output_type": "execute_result"
    }
   ],
   "source": [
    "nltk.download('punkt_tab')\n",
    "nltk.download('punkt')\n",
    "nltk.download('stopwords')"
   ]
  },
  {
   "cell_type": "markdown",
   "metadata": {},
   "source": [
    "#### 전처리 부분 (코드 블럭과 설명을 구별하지 않고 받아옴)"
   ]
  },
  {
   "cell_type": "code",
   "execution_count": 7,
   "metadata": {},
   "outputs": [],
   "source": [
    "def preprocess_text(text):\n",
    "    # 1. HTML 태그 제거\n",
    "    text = re.sub(r'<.*?>', '', text)  # HTML 태그 제거\n",
    "\n",
    "    # 2. 소문자 변환\n",
    "    text = text.lower()\n",
    "\n",
    "    # 3. 구두점 및 특수 문자 제거\n",
    "    text = re.sub(r'[^\\w\\s]', '', text)\n",
    "\n",
    "    # 4. 불용어 제거\n",
    "    stop_words = set(stopwords.words('english'))  # 영어 불용어 목록\n",
    "    word_tokens = word_tokenize(text)\n",
    "    filtered_text = [word for word in word_tokens if word not in stop_words]\n",
    "\n",
    "    # 5. 전처리된 텍스트 반환\n",
    "    return ' '.join(filtered_text)"
   ]
  },
  {
   "cell_type": "markdown",
   "metadata": {},
   "source": [
    "### TEXT 파일 저장\n",
    "- txt 파일로 저장하고자하는 이유는 단순 문자열이기 때문\n",
    "- 저장 위치 설정"
   ]
  },
  {
   "cell_type": "code",
   "execution_count": 36,
   "metadata": {},
   "outputs": [],
   "source": [
    "import os\n",
    "\n",
    "root_path = \"python_library_\"\n",
    "\n",
    "def save_to_txt(text: str, file_name: str):\n",
    "    try:\n",
    "        os.makedirs(root_path, exist_ok=True)\n",
    "\n",
    "        # 파일 경로 설정\n",
    "        raw_file_path = os.path.join(root_path, f\"{file_name}.txt\")\n",
    "\n",
    "        # 텍스트 파일로 저장\n",
    "        with open(raw_file_path, 'w', encoding='utf-8') as code_file:\n",
    "            code_file.write(text)\n",
    "\n",
    "        print(f\"TXT 파일 저장 완료:\\n- raw: {raw_file_path}\")\n",
    "\n",
    "    except Exception as e:\n",
    "        print(f\"TXT 저장 중 오류 발생: {e}\")\n",
    "\n"
   ]
  },
  {
   "cell_type": "markdown",
   "metadata": {},
   "source": [
    "### 정보를 긁어오고 저장하는 함수 (body에 있는 모든 내용을 긁어옴)"
   ]
  },
  {
   "cell_type": "code",
   "execution_count": 37,
   "metadata": {},
   "outputs": [],
   "source": [
    "def fetch_page_content(urls):\n",
    "    # Selenium 웹드라이버 설정\n",
    "    # Selenium 드라이버 설정\n",
    "    options = webdriver.ChromeOptions()\n",
    "    options.add_argument(\"--headless\")  # 브라우저 창을 표시하지 않음\n",
    "    driver = webdriver.Chrome(service=Service(ChromeDriverManager().install()), options=options)\n",
    "\n",
    "\n",
    "    i = 0\n",
    "    # 각 URL을 순차적으로 처리\n",
    "    for url in urls:\n",
    "        i += 1\n",
    "        driver.get(url)\n",
    "        time.sleep(5)  # 페이지 로딩 대기 (필요에 따라 조정)\n",
    "\n",
    "        # 페이지 내용 추출 (body 태그 내의 텍스트)\n",
    "        page_content = driver.find_element(By.TAG_NAME, \"body\").text\n",
    "        # 텍스트 전처리 후 저장\n",
    "        preprocessed_text = preprocess_text(page_content)\n",
    "        save_to_txt(preprocessed_text, f\"python_library-{str(i)}\")\n",
    "\n",
    "    # 브라우저 종료\n",
    "    driver.quit()"
   ]
  },
  {
   "cell_type": "markdown",
   "metadata": {},
   "source": [
    "#### 최종 실행 및 저장 부분"
   ]
  },
  {
   "cell_type": "code",
   "execution_count": 38,
   "metadata": {},
   "outputs": [
    {
     "name": "stdout",
     "output_type": "stream",
     "text": [
      "TXT 파일 저장 완료:\n",
      "- raw: python_library_/python_library-1.txt\n",
      "TXT 파일 저장 완료:\n",
      "- raw: python_library_/python_library-2.txt\n",
      "TXT 파일 저장 완료:\n",
      "- raw: python_library_/python_library-3.txt\n",
      "TXT 파일 저장 완료:\n",
      "- raw: python_library_/python_library-4.txt\n",
      "TXT 파일 저장 완료:\n",
      "- raw: python_library_/python_library-5.txt\n",
      "TXT 파일 저장 완료:\n",
      "- raw: python_library_/python_library-6.txt\n",
      "TXT 파일 저장 완료:\n",
      "- raw: python_library_/python_library-7.txt\n",
      "TXT 파일 저장 완료:\n",
      "- raw: python_library_/python_library-8.txt\n",
      "TXT 파일 저장 완료:\n",
      "- raw: python_library_/python_library-9.txt\n",
      "TXT 파일 저장 완료:\n",
      "- raw: python_library_/python_library-10.txt\n",
      "TXT 파일 저장 완료:\n",
      "- raw: python_library_/python_library-11.txt\n",
      "TXT 파일 저장 완료:\n",
      "- raw: python_library_/python_library-12.txt\n",
      "TXT 파일 저장 완료:\n",
      "- raw: python_library_/python_library-13.txt\n",
      "TXT 파일 저장 완료:\n",
      "- raw: python_library_/python_library-14.txt\n",
      "TXT 파일 저장 완료:\n",
      "- raw: python_library_/python_library-15.txt\n",
      "TXT 파일 저장 완료:\n",
      "- raw: python_library_/python_library-16.txt\n",
      "TXT 파일 저장 완료:\n",
      "- raw: python_library_/python_library-17.txt\n"
     ]
    }
   ],
   "source": [
    "fetch_page_content(urls)"
   ]
  }
 ],
 "metadata": {
  "kernelspec": {
   "display_name": "ai_model",
   "language": "python",
   "name": "python3"
  },
  "language_info": {
   "codemirror_mode": {
    "name": "ipython",
    "version": 3
   },
   "file_extension": ".py",
   "mimetype": "text/x-python",
   "name": "python",
   "nbconvert_exporter": "python",
   "pygments_lexer": "ipython3",
   "version": "3.12.7"
  }
 },
 "nbformat": 4,
 "nbformat_minor": 2
}
