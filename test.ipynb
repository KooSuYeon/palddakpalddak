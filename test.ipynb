{
 "cells": [
  {
   "cell_type": "markdown",
   "metadata": {},
   "source": [
    "### 트러블슈팅\n",
    "---\n",
    "1. txt = txt.replace() 로 원하는 문구가 삭제되지 않는 현상  \n",
    " - txt = re.sub(r'모든 토글을 열고 닫는 단축키', '', txt) 로 수정해봤는데 실패"
   ]
  },
  {
   "cell_type": "code",
   "execution_count": 17,
   "metadata": {},
   "outputs": [],
   "source": [
    "from langchain_openai import ChatOpenAI\n",
    "from langchain_core.prompts import ChatPromptTemplate\n",
    "from langchain_chroma import Chroma\n",
    "from langchain_community.document_loaders import WebBaseLoader\n",
    "from langchain_core.output_parsers import StrOutputParser\n",
    "from langchain_core.runnables import RunnablePassthrough\n",
    "from langchain_openai import OpenAIEmbeddings\n",
    "from langchain_text_splitters import RecursiveCharacterTextSplitter\n",
    "from pprint import pprint\n",
    "\n",
    "from selenium import webdriver\n",
    "from selenium.webdriver.chrome.service import Service\n",
    "from webdriver_manager.chrome import ChromeDriverManager\n",
    "from selenium.webdriver.common.by import By\n",
    "from selenium.webdriver.chrome.options import Options\n",
    "from bs4 import BeautifulSoup\n",
    "import time\n",
    "\n",
    "from selenium.webdriver.common.by import By\n",
    "from selenium.webdriver.support.ui import WebDriverWait\n",
    "from selenium.webdriver.support import expected_conditions as EC\n",
    "import re\n",
    "\n",
    "from dotenv import load_dotenv\n",
    "import os\n",
    "from Preprocessing_Module import Set_Selenium, Reference_Load, Crolling\n",
    "\n",
    "llm = ChatOpenAI(model=\"gpt-4o-mini\")\n",
    "\n",
    "driver = Set_Selenium()\n",
    "url_list = Reference_Load(\"C:/.env\")\n",
    "txt_list = Crolling(driver, url_list)"
   ]
  },
  {
   "cell_type": "code",
   "execution_count": 23,
   "metadata": {},
   "outputs": [
    {
     "name": "stdout",
     "output_type": "stream",
     "text": [
      "('[스파르타코딩클럽] 1강. 강의 소개[SCC] 바닥부터 시작하는 머신러닝/[스파르타코딩클럽] 바닥부터 시작하는 머신러닝 - '\n",
      " '1주차/[스파르타코딩클럽] 1강. 강의 소개제작:[스파르타코딩클럽] 1강. 강의 소개[수업 목표]강의 소개 및 머신러닝 기본 개념을 '\n",
      " '알아봅시다[목차]01. 강좌 소개 딥러닝이 대세라던데, 왜 머신러닝부터 시작할까요?02. 머신러닝 소개모든 토글을 열고 닫는 단축키\\n'\n",
      " 'Windows : Ctrl + alt + t \\n'\n",
      " 'Mac : ⌘ + ⌥ + t 01. 강좌 소개이번 머신러닝 강좌목표와 커리큘럼에 대해 안내합니다.1) 강좌 목표머신러닝의 정의, 주요 '\n",
      " '개념, 다양한 알고리즘 학습개념적 이해와 실습을 통한 심화 학습Scikit-learn, TensorFlow, Keras 등 파이썬 '\n",
      " '라이브러리 활용 인공지능, 머신러닝, 딥러닝? 뭐가 다른 걸까요?인공지능(AI): 사람처럼 생각하고 행동하는 기술 '\n",
      " '\\u200b머신러닝(ML): 데이터를 통해 스스로 배우고 똑똑해지는 기술 \\u200b딥러닝(DL): 이미지 인식, 자연어 처리 등에 '\n",
      " '뛰어난 머신러닝의 한 분야 \\u200b 수학? 걱정 마세요!수학 공식을 몰라도 괜찮아요! 이 강의에서는 머신러닝의 작동 원리와 코딩에 '\n",
      " '집중합니다. 필요한 수학 개념은 그때그때 함께 학습하면 됩니다! \\u200b2) 강좌 커리큘럼머신러닝 정의 및 개념 다양한 머신러닝 '\n",
      " '알고리즘데이터셋 활용과 실습실무 데이터 프로젝트이번 강좌에서는 파이썬 기본 개념이 필요합니다.\\n'\n",
      " '강의 뒤쪽에서 나오는 어려운 문법들은 강좌 내에서 설명 후에 실습을 진행할 예정이니 걱정하지 않으셔도 됩니다!강의 뒤쪽에서 나오는 어려운 '\n",
      " '문법들은 강좌 내에서 설명 후에 실습을 진행할 예정이니 걱정하지 않으셔도 됩니다!\\ufeff\\u200b 딥러닝이 대세라던데, 왜 '\n",
      " '머신러닝부터 시작할까요?딥러닝의 기초는 탄탄한 머신러닝 지식입니다. 기초를 튼튼히 쌓아야 딥러닝도 쉽게 이해할 수 있죠! 차근차근 '\n",
      " '기초부터 다지면, 딥러닝 정복도 문제없어요! \\u200b02. 머신러닝 소개머신러닝에 대한 기본적인 개념 및 역사등을 '\n",
      " '소개합니다1)머신러닝 소개 머신러닝의 정의컴퓨터가 명시적으로 프로그래밍 되지 않아도 데이터를 통해 학습하고, 예측할 수 있도록 하는 '\n",
      " '기능대량의 데이터를 알고리즘에 입력하여 학습과정을 통해 모델을 생성하고 예측을 수행기존 프로그램은 명시적으로 작성된 규칙과 논리에 따라 '\n",
      " '동작한다는것에서 머신러닝과의 차이가 있습니다!기존 프로그램은 명시적으로 작성된 규칙과 논리에 따라 동작한다는것에서 머신러닝과의 차이가 '\n",
      " '있습니다!\\ufeff\\u200b전통적인 프로그래밍:규칙과 논리를 프로그래머가 직접 정의 \\u200b명시적 명령과 조건문을 통해 문제 해결 '\n",
      " '\\u200b머신러닝:데이터를 이용해 패턴과 규칙을 스스로 학습 \\u200b예측 모델을 통해 새로운 데이터에 대한 결과 도출 '\n",
      " '\\u200b프로그램이 아닌 모델이 중심 \\u200b 머신러닝의 구성요소데이터셋 : 모델을 학습시키기 위한 데이터 모음특징(Feature) '\n",
      " ': 데이터셋에서 모델이 학습할 수 있는 개별 속성레이블(label) : 예측하고자 하는 목표 변수훈련 : 모델이 데이터를 통해 학습하는 '\n",
      " '과정테스트 : 학습된 모델의 성능을 평가하는 과정2)머신러닝의 역사 및 발전 이유  머신러닝의 역사1950s : 앨런 튜링의 '\n",
      " '“튜링테스트”와 퍼셉트론의 개발1980s -90s : 백프로파게이션 알고리즘의 등장2000s :  대규모 데이터와 고성능 컴퓨팅 자원의 '\n",
      " '발전2010s - : 딥러닝의 부상과 다양한 산업에 적용 최근 머신러닝의 발전 이유데이터의 폭발적 증가컴퓨팅 파워의 향상알고리즘의 '\n",
      " '발전오픈소스 커뮤니티와 생태계의 발전이 강좌에서는 파이썬을 활용한 머신러닝의 기본 개념과 실습을 다룰 예정입니다!\\n'\n",
      " '머신러닝의 기본적인 원리부터 실습을 통해 직접 모델 구축/평가하는 방법까지 모두 함께 배워봅시다!Copyright ⓒ TeamSparta '\n",
      " 'All rights reserved.')\n"
     ]
    }
   ],
   "source": [
    "pprint(txt_list[1])\n"
   ]
  }
 ],
 "metadata": {
  "kernelspec": {
   "display_name": "myenv1014",
   "language": "python",
   "name": "python3"
  },
  "language_info": {
   "codemirror_mode": {
    "name": "ipython",
    "version": 3
   },
   "file_extension": ".py",
   "mimetype": "text/x-python",
   "name": "python",
   "nbconvert_exporter": "python",
   "pygments_lexer": "ipython3",
   "version": "3.12.7"
  }
 },
 "nbformat": 4,
 "nbformat_minor": 2
}
